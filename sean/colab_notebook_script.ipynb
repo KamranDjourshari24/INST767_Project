import pandas as pd

url = "https://example.com/data.csv"
df = pd.read_csv(url)

print(df.head())